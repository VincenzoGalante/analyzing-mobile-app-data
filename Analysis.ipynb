{
 "cells": [
  {
   "cell_type": "markdown",
   "id": "56f0bd98",
   "metadata": {},
   "source": [
    "# Aim"
   ]
  },
  {
   "cell_type": "markdown",
   "id": "0f04c6c7",
   "metadata": {},
   "source": [
    "Analyzing Google Play and App Store data to help developers understand which Apps are most likely to attract more users. The developers in this scenario work on a non-paid mobile Application that monetizes via in-app ads and targets Enlish-speaking users. \n",
    "\n",
    "The two datasets that are being analysed can be directly downloaded [here](https://dq-content.s3.amazonaws.com/350/googleplaystore.csv) (Google Play store data) and [here](https://dq-content.s3.amazonaws.com/350/AppleStore.csv) (App Store data)."
   ]
  },
  {
   "cell_type": "markdown",
   "id": "29644b79",
   "metadata": {},
   "source": [
    "# Opening and exploring the data"
   ]
  },
  {
   "cell_type": "code",
   "execution_count": 1,
   "id": "596a8570",
   "metadata": {
    "ExecuteTime": {
     "end_time": "2022-12-01T23:08:36.362406Z",
     "start_time": "2022-12-01T23:08:36.289768Z"
    }
   },
   "outputs": [],
   "source": [
    "from csv import reader\n",
    "\n",
    "def csv2list(csv):\n",
    "    file = open(csv)\n",
    "    read = reader(file)\n",
    "    data = list(read)\n",
    "    return data\n",
    "\n",
    "google = csv2list(\"googleplaystore.csv\")\n",
    "apple = csv2list(\"AppleStore.csv\")"
   ]
  },
  {
   "cell_type": "code",
   "execution_count": 2,
   "id": "259c24c5",
   "metadata": {
    "ExecuteTime": {
     "end_time": "2022-12-01T23:08:36.371724Z",
     "start_time": "2022-12-01T23:08:36.364515Z"
    }
   },
   "outputs": [],
   "source": [
    "def explore(csv, start, end):\n",
    "    sliced = csv[start:end]\n",
    "\n",
    "    ll = len(csv)\n",
    "    \n",
    "    print(f'The data has {ll} rows')\n",
    "    print('\\n')\n",
    "    \n",
    "    for i in sliced:\n",
    "        print(i)\n",
    "        print('\\n')"
   ]
  },
  {
   "cell_type": "code",
   "execution_count": 3,
   "id": "2f710726",
   "metadata": {
    "ExecuteTime": {
     "end_time": "2022-12-01T23:08:36.376630Z",
     "start_time": "2022-12-01T23:08:36.373483Z"
    }
   },
   "outputs": [
    {
     "name": "stdout",
     "output_type": "stream",
     "text": [
      ">>> GOOGLE DATA\n",
      "The data has 10842 rows\n",
      "\n",
      "\n",
      "['App', 'Category', 'Rating', 'Reviews', 'Size', 'Installs', 'Type', 'Price', 'Content Rating', 'Genres', 'Last Updated', 'Current Ver', 'Android Ver']\n",
      "\n",
      "\n",
      "['Photo Editor & Candy Camera & Grid & ScrapBook', 'ART_AND_DESIGN', '4.1', '159', '19M', '10,000+', 'Free', '0', 'Everyone', 'Art & Design', 'January 7, 2018', '1.0.0', '4.0.3 and up']\n",
      "\n",
      "\n",
      "['Coloring book moana', 'ART_AND_DESIGN', '3.9', '967', '14M', '500,000+', 'Free', '0', 'Everyone', 'Art & Design;Pretend Play', 'January 15, 2018', '2.0.0', '4.0.3 and up']\n",
      "\n",
      "\n"
     ]
    }
   ],
   "source": [
    "print(\">>> GOOGLE DATA\")\n",
    "explore(google,0,3)"
   ]
  },
  {
   "cell_type": "code",
   "execution_count": 4,
   "id": "30ed2296",
   "metadata": {
    "ExecuteTime": {
     "end_time": "2022-12-01T23:08:36.381014Z",
     "start_time": "2022-12-01T23:08:36.378146Z"
    }
   },
   "outputs": [
    {
     "name": "stdout",
     "output_type": "stream",
     "text": [
      ">>> APPLE DATA\n",
      "The data has 7198 rows\n",
      "\n",
      "\n",
      "['id', 'track_name', 'size_bytes', 'currency', 'price', 'rating_count_tot', 'rating_count_ver', 'user_rating', 'user_rating_ver', 'ver', 'cont_rating', 'prime_genre', 'sup_devices.num', 'ipadSc_urls.num', 'lang.num', 'vpp_lic']\n",
      "\n",
      "\n",
      "['284882215', 'Facebook', '389879808', 'USD', '0.0', '2974676', '212', '3.5', '3.5', '95.0', '4+', 'Social Networking', '37', '1', '29', '1']\n",
      "\n",
      "\n",
      "['389801252', 'Instagram', '113954816', 'USD', '0.0', '2161558', '1289', '4.5', '4.0', '10.23', '12+', 'Photo & Video', '37', '0', '29', '1']\n",
      "\n",
      "\n"
     ]
    }
   ],
   "source": [
    "print(\">>> APPLE DATA\")\n",
    "explore(apple,0,3)"
   ]
  },
  {
   "cell_type": "markdown",
   "id": "87a39433",
   "metadata": {},
   "source": [
    "# Data cleaning 1 - Checking for inacurate data"
   ]
  },
  {
   "cell_type": "code",
   "execution_count": 5,
   "id": "ed81135b",
   "metadata": {
    "ExecuteTime": {
     "end_time": "2022-12-01T23:08:36.389899Z",
     "start_time": "2022-12-01T23:08:36.383281Z"
    }
   },
   "outputs": [
    {
     "name": "stdout",
     "output_type": "stream",
     "text": [
      ">>> Google check results \n",
      "['Life Made WI-Fi Touchscreen Photo Frame', '1.9', '19', '3.0M', '1,000+', 'Free', '0', 'Everyone', '', 'February 11, 2018', '1.0.19', '4.0 and up']\n",
      "10473\n",
      ">>> Apple check results\n"
     ]
    }
   ],
   "source": [
    "def row_check(data):\n",
    "    header = len(data[0])\n",
    "    \n",
    "    for i in data:        \n",
    "        if len(i) != header:\n",
    "            print(i)\n",
    "            print(data.index(i))\n",
    "                  \n",
    "print(\">>> Google check results \")\n",
    "row_check(google)\n",
    "\n",
    "print(\">>> Apple check results\")\n",
    "row_check(apple)"
   ]
  },
  {
   "cell_type": "code",
   "execution_count": 6,
   "id": "e19989a1",
   "metadata": {
    "ExecuteTime": {
     "end_time": "2022-12-01T23:08:36.393901Z",
     "start_time": "2022-12-01T23:08:36.391470Z"
    }
   },
   "outputs": [],
   "source": [
    "del google[10473]"
   ]
  },
  {
   "cell_type": "markdown",
   "id": "cca380a3",
   "metadata": {
    "ExecuteTime": {
     "end_time": "2022-11-25T13:31:24.969947Z",
     "start_time": "2022-11-25T13:31:24.964626Z"
    }
   },
   "source": [
    "# Data cleaning 2 - Checking for duplicates"
   ]
  },
  {
   "cell_type": "markdown",
   "id": "6694b77f",
   "metadata": {},
   "source": [
    "Checking for duplicate entries in both datasets via a custom-function, thats flexible enough to be applied on both datasets, who show a different formatting."
   ]
  },
  {
   "cell_type": "code",
   "execution_count": 7,
   "id": "e5c0cdea",
   "metadata": {
    "ExecuteTime": {
     "end_time": "2022-12-01T23:08:36.398376Z",
     "start_time": "2022-12-01T23:08:36.395379Z"
    }
   },
   "outputs": [],
   "source": [
    "def duplicate_check(data, column):\n",
    "    \n",
    "    duplicates = []\n",
    "    unique = []\n",
    "    \n",
    "    for i in data:\n",
    "        name = i[column]\n",
    "        \n",
    "        if name in unique:\n",
    "            duplicates.append(name)\n",
    "        else:\n",
    "            unique.append(name)\n",
    "    \n",
    "    return duplicates"
   ]
  },
  {
   "cell_type": "code",
   "execution_count": 8,
   "id": "a47b22ac",
   "metadata": {
    "ExecuteTime": {
     "end_time": "2022-12-01T23:08:37.280194Z",
     "start_time": "2022-12-01T23:08:36.399858Z"
    }
   },
   "outputs": [
    {
     "name": "stdout",
     "output_type": "stream",
     "text": [
      ">>> Examples of duplicates within Google dataset:\n",
      "['Quick PDF Scanner + OCR FREE', 'Box', 'Google My Business', 'ZOOM Cloud Meetings', 'join.me - Simple Meetings', 'Box', 'Zenefits', 'Google Ads', 'Google My Business', 'Slack']\n",
      ">>> Count of duplicates: 1181\n",
      "\n",
      "\n",
      ">>> Examples of duplicates within Apple dataset:\n",
      "['Mannequin Challenge', 'VR Roller Coaster']\n",
      ">>> Count of duplicates: 2\n"
     ]
    }
   ],
   "source": [
    "google_duplicates = duplicate_check(google, 0)\n",
    "apple_duplicates = duplicate_check(apple, 1)\n",
    "\n",
    "print(\">>> Examples of duplicates within Google dataset:\")\n",
    "print(google_duplicates[:10])\n",
    "print(\">>> Count of duplicates: \" + str(len(google_duplicates)))\n",
    "print(\"\\n\")\n",
    "print(\">>> Examples of duplicates within Apple dataset:\")\n",
    "print(apple_duplicates[:10])\n",
    "print(\">>> Count of duplicates: \" + str(len(apple_duplicates)))"
   ]
  },
  {
   "cell_type": "code",
   "execution_count": 9,
   "id": "dc71cecc",
   "metadata": {
    "ExecuteTime": {
     "end_time": "2022-12-01T23:08:37.290439Z",
     "start_time": "2022-12-01T23:08:37.282080Z"
    }
   },
   "outputs": [
    {
     "name": "stdout",
     "output_type": "stream",
     "text": [
      "['Slack', 'BUSINESS', '4.4', '51507', 'Varies with device', '5,000,000+', 'Free', '0', 'Everyone', 'Business', 'August 2, 2018', 'Varies with device', 'Varies with device']\n",
      "['Slack', 'BUSINESS', '4.4', '51507', 'Varies with device', '5,000,000+', 'Free', '0', 'Everyone', 'Business', 'August 2, 2018', 'Varies with device', 'Varies with device']\n",
      "['Slack', 'BUSINESS', '4.4', '51510', 'Varies with device', '5,000,000+', 'Free', '0', 'Everyone', 'Business', 'August 2, 2018', 'Varies with device', 'Varies with device']\n"
     ]
    }
   ],
   "source": [
    "for i in google:\n",
    "    name = i[0]\n",
    "    if name == \"Slack\":\n",
    "        print(i)"
   ]
  },
  {
   "cell_type": "markdown",
   "id": "ca120bf5",
   "metadata": {},
   "source": [
    "Looking at the duplicate data, we see that the rating amount seems to differ between entries of the same application. Here with the example of \"Slack\". Hence we are going to remove all duplicate entries of the same app, keeping only the one with the highest rating. This logic does only apply to the Google data, the App Store data follows a different logic, where all entries represent a individual App. Apparently Apps within the App Store can have the same name - see [here](https://www.kaggle.com/datasets/ramamet4/app-store-apple-data-set-10k-apps/discussion/90409) for more."
   ]
  },
  {
   "cell_type": "code",
   "execution_count": 10,
   "id": "2e3892bc",
   "metadata": {
    "ExecuteTime": {
     "end_time": "2022-12-01T23:08:37.302121Z",
     "start_time": "2022-12-01T23:08:37.291933Z"
    }
   },
   "outputs": [
    {
     "name": "stdout",
     "output_type": "stream",
     "text": [
      "9659\n"
     ]
    }
   ],
   "source": [
    "reviews_max_google = {}\n",
    "\n",
    "for i in google[1:]:\n",
    "    name = i[0]\n",
    "    ratings = float(i[3])\n",
    "        \n",
    "    if name in reviews_max_google and reviews_max_google[name] < ratings:\n",
    "        reviews_max_google[name] = ratings\n",
    "    elif name not in reviews_max_google:\n",
    "        reviews_max_google[name] = ratings\n",
    "\n",
    "print(len(reviews_max_google))"
   ]
  },
  {
   "cell_type": "code",
   "execution_count": 11,
   "id": "ca973995",
   "metadata": {
    "ExecuteTime": {
     "end_time": "2022-12-01T23:08:37.907190Z",
     "start_time": "2022-12-01T23:08:37.303591Z"
    }
   },
   "outputs": [
    {
     "name": "stdout",
     "output_type": "stream",
     "text": [
      "9660\n"
     ]
    }
   ],
   "source": [
    "google_clean = []\n",
    "already_added = []\n",
    "\n",
    "google_clean.append(google[0])\n",
    "\n",
    "for row in google[1:]:\n",
    "    name = row[0]\n",
    "    ratings = float(row[3])\n",
    "    \n",
    "    if ratings == reviews_max_google[name] and name not in already_added:\n",
    "        google_clean.append(row)\n",
    "        already_added.append(name)\n",
    "        \n",
    "print(len(google_clean))"
   ]
  },
  {
   "cell_type": "markdown",
   "id": "30b9cba3",
   "metadata": {},
   "source": [
    "# Data cleaning 3 - Removing non-english apps"
   ]
  },
  {
   "cell_type": "code",
   "execution_count": 12,
   "id": "b3af5c16",
   "metadata": {
    "ExecuteTime": {
     "end_time": "2022-12-01T23:08:37.913583Z",
     "start_time": "2022-12-01T23:08:37.909534Z"
    }
   },
   "outputs": [],
   "source": [
    "def english_check(string):\n",
    "    counter = 0\n",
    "    \n",
    "    for i in string:\n",
    "        asci = ord(i)       \n",
    "        if counter == 3:\n",
    "            return False\n",
    "        elif asci >= 127:\n",
    "            counter += 1\n",
    "            \n",
    "    return True"
   ]
  },
  {
   "cell_type": "markdown",
   "id": "53a00e38",
   "metadata": {},
   "source": [
    "We are going to remove non-english apps, by checking their Name and removing Apps with characters in their names that do not belong to the english language according to the ASCII. TM is outside of the english language range (0-127). Same for emojis hence we are adjusting that a name can contain max 3 characters outside of the ASCII range."
   ]
  },
  {
   "cell_type": "code",
   "execution_count": 13,
   "id": "0b4f15d4",
   "metadata": {
    "ExecuteTime": {
     "end_time": "2022-12-01T23:08:37.922358Z",
     "start_time": "2022-12-01T23:08:37.915998Z"
    }
   },
   "outputs": [
    {
     "data": {
      "text/plain": [
       "True"
      ]
     },
     "execution_count": 13,
     "metadata": {},
     "output_type": "execute_result"
    }
   ],
   "source": [
    "english_check('Instagram')"
   ]
  },
  {
   "cell_type": "code",
   "execution_count": 14,
   "id": "a33aabdc",
   "metadata": {
    "ExecuteTime": {
     "end_time": "2022-12-01T23:08:37.934073Z",
     "start_time": "2022-12-01T23:08:37.927973Z"
    }
   },
   "outputs": [
    {
     "data": {
      "text/plain": [
       "False"
      ]
     },
     "execution_count": 14,
     "metadata": {},
     "output_type": "execute_result"
    }
   ],
   "source": [
    "english_check('爱奇艺PPS -《欢乐颂2》电视剧热播')"
   ]
  },
  {
   "cell_type": "code",
   "execution_count": 15,
   "id": "234bb2fc",
   "metadata": {
    "ExecuteTime": {
     "end_time": "2022-12-01T23:08:37.940675Z",
     "start_time": "2022-12-01T23:08:37.936324Z"
    }
   },
   "outputs": [
    {
     "data": {
      "text/plain": [
       "True"
      ]
     },
     "execution_count": 15,
     "metadata": {},
     "output_type": "execute_result"
    }
   ],
   "source": [
    "english_check('Docs To Go™ Free Office Suite') # "
   ]
  },
  {
   "cell_type": "code",
   "execution_count": 16,
   "id": "92f068a1",
   "metadata": {
    "ExecuteTime": {
     "end_time": "2022-12-01T23:08:37.946572Z",
     "start_time": "2022-12-01T23:08:37.942884Z"
    }
   },
   "outputs": [
    {
     "data": {
      "text/plain": [
       "True"
      ]
     },
     "execution_count": 16,
     "metadata": {},
     "output_type": "execute_result"
    }
   ],
   "source": [
    "english_check('Instachat 😜')"
   ]
  },
  {
   "cell_type": "markdown",
   "id": "bf0f2ec0",
   "metadata": {},
   "source": [
    "Lets iterate over the dataset in order to clean both sets from Apps that should not affect our analysis."
   ]
  },
  {
   "cell_type": "code",
   "execution_count": 17,
   "id": "cc795efe",
   "metadata": {
    "ExecuteTime": {
     "end_time": "2022-12-01T23:08:38.006024Z",
     "start_time": "2022-12-01T23:08:37.948572Z"
    }
   },
   "outputs": [],
   "source": [
    "def english_check_loop(dataset, column):\n",
    "    \n",
    "    cleaned_set = []\n",
    "    cleaned_set.append(dataset[0])\n",
    "    \n",
    "    for i in dataset[1:]:\n",
    "        name = i[column]\n",
    "        \n",
    "        if english_check(name):\n",
    "            cleaned_set.append(i)\n",
    "    \n",
    "    return cleaned_set\n",
    "\n",
    "apple_english_only = english_check_loop(apple, 1)\n",
    "google_english_only = english_check_loop(google_clean, 0)"
   ]
  },
  {
   "cell_type": "code",
   "execution_count": 18,
   "id": "8127fed2",
   "metadata": {
    "ExecuteTime": {
     "end_time": "2022-12-01T23:08:38.012261Z",
     "start_time": "2022-12-01T23:08:38.008587Z"
    }
   },
   "outputs": [
    {
     "name": "stdout",
     "output_type": "stream",
     "text": [
      "The data has 6176 rows\n",
      "\n",
      "\n",
      "['id', 'track_name', 'size_bytes', 'currency', 'price', 'rating_count_tot', 'rating_count_ver', 'user_rating', 'user_rating_ver', 'ver', 'cont_rating', 'prime_genre', 'sup_devices.num', 'ipadSc_urls.num', 'lang.num', 'vpp_lic']\n",
      "\n",
      "\n",
      "['284882215', 'Facebook', '389879808', 'USD', '0.0', '2974676', '212', '3.5', '3.5', '95.0', '4+', 'Social Networking', '37', '1', '29', '1']\n",
      "\n",
      "\n",
      "['389801252', 'Instagram', '113954816', 'USD', '0.0', '2161558', '1289', '4.5', '4.0', '10.23', '12+', 'Photo & Video', '37', '0', '29', '1']\n",
      "\n",
      "\n"
     ]
    }
   ],
   "source": [
    "explore(apple_english_only,0,3)"
   ]
  },
  {
   "cell_type": "code",
   "execution_count": 19,
   "id": "08e41ae6",
   "metadata": {
    "ExecuteTime": {
     "end_time": "2022-12-01T23:08:38.017819Z",
     "start_time": "2022-12-01T23:08:38.014627Z"
    }
   },
   "outputs": [
    {
     "name": "stdout",
     "output_type": "stream",
     "text": [
      "The data has 9601 rows\n",
      "\n",
      "\n",
      "['App', 'Category', 'Rating', 'Reviews', 'Size', 'Installs', 'Type', 'Price', 'Content Rating', 'Genres', 'Last Updated', 'Current Ver', 'Android Ver']\n",
      "\n",
      "\n",
      "['Photo Editor & Candy Camera & Grid & ScrapBook', 'ART_AND_DESIGN', '4.1', '159', '19M', '10,000+', 'Free', '0', 'Everyone', 'Art & Design', 'January 7, 2018', '1.0.0', '4.0.3 and up']\n",
      "\n",
      "\n",
      "['U Launcher Lite – FREE Live Cool Themes, Hide Apps', 'ART_AND_DESIGN', '4.7', '87510', '8.7M', '5,000,000+', 'Free', '0', 'Everyone', 'Art & Design', 'August 1, 2018', '1.2.4', '4.0.3 and up']\n",
      "\n",
      "\n"
     ]
    }
   ],
   "source": [
    "explore(google_english_only,0,3)"
   ]
  },
  {
   "cell_type": "markdown",
   "id": "da25cf57",
   "metadata": {},
   "source": [
    "# Data cleaning 4 - Removing non-free apps"
   ]
  },
  {
   "cell_type": "code",
   "execution_count": 20,
   "id": "6b937706",
   "metadata": {
    "ExecuteTime": {
     "end_time": "2022-12-01T23:08:38.031070Z",
     "start_time": "2022-12-01T23:08:38.019859Z"
    }
   },
   "outputs": [],
   "source": [
    "def price_detector(dataset, column):\n",
    "    \n",
    "    cleaned_set = []\n",
    "    cleaned_set.append(dataset[0])\n",
    "    \n",
    "    for i in dataset[1:]:\n",
    "        price = i[column]\n",
    "                \n",
    "        if price == '0' or price == '0.0' or price == 'Free':\n",
    "            cleaned_set.append(i)\n",
    "            \n",
    "    return cleaned_set\n",
    "\n",
    "google_clean_set = price_detector(google_english_only, 7)\n",
    "apple_clean_set = price_detector(apple_english_only, 4)"
   ]
  },
  {
   "cell_type": "code",
   "execution_count": 21,
   "id": "8263dbf6",
   "metadata": {
    "ExecuteTime": {
     "end_time": "2022-12-01T23:08:38.038431Z",
     "start_time": "2022-12-01T23:08:38.034226Z"
    }
   },
   "outputs": [
    {
     "name": "stdout",
     "output_type": "stream",
     "text": [
      "The data has 8852 rows\n",
      "\n",
      "\n",
      "['App', 'Category', 'Rating', 'Reviews', 'Size', 'Installs', 'Type', 'Price', 'Content Rating', 'Genres', 'Last Updated', 'Current Ver', 'Android Ver']\n",
      "\n",
      "\n",
      "['Photo Editor & Candy Camera & Grid & ScrapBook', 'ART_AND_DESIGN', '4.1', '159', '19M', '10,000+', 'Free', '0', 'Everyone', 'Art & Design', 'January 7, 2018', '1.0.0', '4.0.3 and up']\n",
      "\n",
      "\n",
      "['U Launcher Lite – FREE Live Cool Themes, Hide Apps', 'ART_AND_DESIGN', '4.7', '87510', '8.7M', '5,000,000+', 'Free', '0', 'Everyone', 'Art & Design', 'August 1, 2018', '1.2.4', '4.0.3 and up']\n",
      "\n",
      "\n",
      "['Sketch - Draw & Paint', 'ART_AND_DESIGN', '4.5', '215644', '25M', '50,000,000+', 'Free', '0', 'Teen', 'Art & Design', 'June 8, 2018', 'Varies with device', '4.2 and up']\n",
      "\n",
      "\n",
      "['Pixel Draw - Number Art Coloring Book', 'ART_AND_DESIGN', '4.3', '967', '2.8M', '100,000+', 'Free', '0', 'Everyone', 'Art & Design;Creativity', 'June 20, 2018', '1.1', '4.4 and up']\n",
      "\n",
      "\n"
     ]
    }
   ],
   "source": [
    "explore(google_clean_set, 0, 5)"
   ]
  },
  {
   "cell_type": "code",
   "execution_count": 22,
   "id": "3e50e466",
   "metadata": {
    "ExecuteTime": {
     "end_time": "2022-12-01T23:08:38.045428Z",
     "start_time": "2022-12-01T23:08:38.040987Z"
    }
   },
   "outputs": [
    {
     "name": "stdout",
     "output_type": "stream",
     "text": [
      "The data has 3217 rows\n",
      "\n",
      "\n",
      "['id', 'track_name', 'size_bytes', 'currency', 'price', 'rating_count_tot', 'rating_count_ver', 'user_rating', 'user_rating_ver', 'ver', 'cont_rating', 'prime_genre', 'sup_devices.num', 'ipadSc_urls.num', 'lang.num', 'vpp_lic']\n",
      "\n",
      "\n",
      "['284882215', 'Facebook', '389879808', 'USD', '0.0', '2974676', '212', '3.5', '3.5', '95.0', '4+', 'Social Networking', '37', '1', '29', '1']\n",
      "\n",
      "\n",
      "['389801252', 'Instagram', '113954816', 'USD', '0.0', '2161558', '1289', '4.5', '4.0', '10.23', '12+', 'Photo & Video', '37', '0', '29', '1']\n",
      "\n",
      "\n",
      "['529479190', 'Clash of Clans', '116476928', 'USD', '0.0', '2130805', '579', '4.5', '4.5', '9.24.12', '9+', 'Games', '38', '5', '18', '1']\n",
      "\n",
      "\n",
      "['420009108', 'Temple Run', '65921024', 'USD', '0.0', '1724546', '3842', '4.5', '4.0', '1.6.2', '9+', 'Games', '40', '5', '1', '1']\n",
      "\n",
      "\n"
     ]
    }
   ],
   "source": [
    "explore(apple_clean_set, 0, 5)"
   ]
  },
  {
   "cell_type": "markdown",
   "id": "0950c9ef",
   "metadata": {},
   "source": [
    "# Most common Apps by Genre"
   ]
  },
  {
   "cell_type": "markdown",
   "id": "2db7d46c",
   "metadata": {},
   "source": [
    "As our revenue is highly influenced by the number of users, we want to identify apps that are attracting more users on both platforms. We aligned on the following strategy:\n",
    "\n",
    "1. Build an MVP for the Google Play store\n",
    "2. If the app has good user responses, it will be developed further\n",
    "3. If the app is profitable after 6 months, it will be translated for the App store\n",
    "\n",
    "We will go ahead and inspect the `prime_genre` within the App Store dataset and the `Category` and `Genres` within the Google Play dataset. "
   ]
  },
  {
   "cell_type": "code",
   "execution_count": 23,
   "id": "6baf628e",
   "metadata": {
    "ExecuteTime": {
     "end_time": "2022-12-01T23:08:38.053869Z",
     "start_time": "2022-12-01T23:08:38.047985Z"
    }
   },
   "outputs": [],
   "source": [
    "def freq_table(dataset, index):\n",
    "    \n",
    "    result = {}\n",
    "    total = 0\n",
    "    \n",
    "    for i in dataset:\n",
    "        check = i[index]\n",
    "        total += 1\n",
    "        \n",
    "        if check in result:\n",
    "            result[check] += 1\n",
    "        else:\n",
    "            result[check] = 1\n",
    "            \n",
    "    for i in result:\n",
    "        percentage = (result[i] / total)*100\n",
    "        result[i] = percentage   \n",
    "        \n",
    "    return result"
   ]
  },
  {
   "cell_type": "code",
   "execution_count": 24,
   "id": "64ae04aa",
   "metadata": {
    "ExecuteTime": {
     "end_time": "2022-12-01T23:08:38.062426Z",
     "start_time": "2022-12-01T23:08:38.056693Z"
    }
   },
   "outputs": [],
   "source": [
    "def display_table(dataset, index):\n",
    "    table = freq_table(dataset, index)\n",
    "    table_display = []\n",
    "    for key in table:\n",
    "        key_val_as_tuple = (table[key], key)\n",
    "        table_display.append(key_val_as_tuple)\n",
    "\n",
    "    table_sorted = sorted(table_display, reverse = True)\n",
    "    for entry in table_sorted:\n",
    "        print(entry[1], ':', entry[0])"
   ]
  },
  {
   "cell_type": "markdown",
   "id": "c135983f",
   "metadata": {},
   "source": [
    "Running the frequency analysis on the Apple dataset:"
   ]
  },
  {
   "cell_type": "code",
   "execution_count": 25,
   "id": "ae1aa8fd",
   "metadata": {
    "ExecuteTime": {
     "end_time": "2022-12-01T23:08:38.072718Z",
     "start_time": "2022-12-01T23:08:38.065210Z"
    }
   },
   "outputs": [
    {
     "name": "stdout",
     "output_type": "stream",
     "text": [
      "Games : 58.24004975124378\n",
      "Entertainment : 7.8669154228855716\n",
      "Photo & Video : 4.975124378109453\n",
      "Education : 3.6691542288557213\n",
      "Social Networking : 3.296019900497513\n",
      "Shopping : 2.5808457711442787\n",
      "Utilities : 2.4875621890547266\n",
      "Sports : 2.1455223880597014\n",
      "Music : 2.0522388059701493\n",
      "Health & Fitness : 2.0211442786069655\n",
      "Productivity : 1.7412935323383085\n",
      "Lifestyle : 1.585820895522388\n",
      "News : 1.3370646766169154\n",
      "Travel : 1.2437810945273633\n",
      "Finance : 1.1194029850746268\n",
      "Weather : 0.8706467661691543\n",
      "Food & Drink : 0.808457711442786\n",
      "Reference : 0.5286069651741294\n",
      "Business : 0.5286069651741294\n",
      "Book : 0.404228855721393\n",
      "Navigation : 0.18656716417910446\n",
      "Medical : 0.18656716417910446\n",
      "Catalogs : 0.12437810945273632\n"
     ]
    }
   ],
   "source": [
    "display_table(apple_clean_set[1:], 11)"
   ]
  },
  {
   "cell_type": "markdown",
   "id": "b4ada16a",
   "metadata": {},
   "source": [
    "The two most common types of Apps in the App Store are `Games` and `Entertainment`. `Photo & Video` and `Education` are following closely. With over half of the Apps being Games (58.22%) the App Store is clearly being domniated by this category. This and seeing that `Entertainment`, `Photo & Video`, `Social Networking` and `Shopping` are relatively high in the ranking leads to the impression that the App Store within the filtered dataset (non-free English apps) is mostly offering Apps for fun and leisure time."
   ]
  },
  {
   "cell_type": "markdown",
   "id": "de4141ea",
   "metadata": {},
   "source": [
    "Running the frequency analysis on the Google dataset:"
   ]
  },
  {
   "cell_type": "code",
   "execution_count": 26,
   "id": "c99881ac",
   "metadata": {
    "ExecuteTime": {
     "end_time": "2022-12-01T23:08:38.082996Z",
     "start_time": "2022-12-01T23:08:38.075458Z"
    }
   },
   "outputs": [
    {
     "name": "stdout",
     "output_type": "stream",
     "text": [
      "FAMILY : 18.93571347870297\n",
      "GAME : 9.727714382555645\n",
      "TOOLS : 8.451022483335215\n",
      "BUSINESS : 4.598350468873574\n",
      "PRODUCTIVITY : 3.8978646480623658\n",
      "LIFESTYLE : 3.8865664896621848\n",
      "FINANCE : 3.7057959552592923\n",
      "MEDICAL : 3.5363235792565813\n",
      "SPORTS : 3.3894475200542313\n",
      "PERSONALIZATION : 3.321658569653146\n",
      "COMMUNICATION : 3.2312733024517004\n",
      "HEALTH_AND_FITNESS : 3.0843972432493505\n",
      "PHOTOGRAPHY : 2.948819342447181\n",
      "NEWS_AND_MAGAZINES : 2.801943283244831\n",
      "SOCIAL : 2.666365382442662\n",
      "TRAVEL_AND_LOCAL : 2.3387187888374195\n",
      "SHOPPING : 2.248333521635973\n",
      "BOOKS_AND_REFERENCE : 2.135351937634166\n",
      "DATING : 1.8641961360298271\n",
      "VIDEO_PLAYERS : 1.7964071856287425\n",
      "MAPS_AND_NAVIGATION : 1.3896734832222348\n",
      "FOOD_AND_DRINK : 1.242797424019885\n",
      "EDUCATION : 1.1637103152186195\n",
      "ENTERTAINMENT : 0.9603434640153655\n",
      "LIBRARIES_AND_DEMO : 0.937747147215004\n",
      "AUTO_AND_VEHICLES : 0.9264489888148231\n",
      "HOUSE_AND_HOME : 0.8021692464128347\n",
      "WEATHER : 0.7908710880126538\n",
      "EVENTS : 0.7117839792113886\n",
      "PARENTING : 0.6552931872104847\n",
      "ART_AND_DESIGN : 0.6439950288103039\n",
      "COMICS : 0.6101005536097617\n",
      "BEAUTY : 0.5988023952095809\n"
     ]
    }
   ],
   "source": [
    "display_table(google_clean_set[1:], 1)"
   ]
  },
  {
   "cell_type": "code",
   "execution_count": 27,
   "id": "34f9989a",
   "metadata": {
    "ExecuteTime": {
     "end_time": "2022-12-01T23:08:38.096914Z",
     "start_time": "2022-12-01T23:08:38.085692Z"
    }
   },
   "outputs": [
    {
     "name": "stdout",
     "output_type": "stream",
     "text": [
      "Tools : 8.439724324935035\n",
      "Entertainment : 6.078409219297255\n",
      "Education : 5.355327081685686\n",
      "Business : 4.598350468873574\n",
      "Productivity : 3.8978646480623658\n",
      "Lifestyle : 3.875268331262004\n",
      "Finance : 3.7057959552592923\n",
      "Medical : 3.5363235792565813\n",
      "Sports : 3.457236470455316\n",
      "Personalization : 3.321658569653146\n",
      "Communication : 3.2312733024517004\n",
      "Action : 3.106993560049712\n",
      "Health & Fitness : 3.0843972432493505\n",
      "Photography : 2.948819342447181\n",
      "News & Magazines : 2.801943283244831\n",
      "Social : 2.666365382442662\n",
      "Travel & Local : 2.327420630437239\n",
      "Shopping : 2.248333521635973\n",
      "Books & Reference : 2.135351937634166\n",
      "Simulation : 2.0449666704327196\n",
      "Dating : 1.8641961360298271\n",
      "Arcade : 1.8415998192294656\n",
      "Video Players & Editors : 1.7738108688283811\n",
      "Casual : 1.7625127104282001\n",
      "Maps & Navigation : 1.3896734832222348\n",
      "Food & Drink : 1.242797424019885\n",
      "Puzzle : 1.1298158400180771\n",
      "Racing : 0.9942379392159078\n",
      "Role Playing : 0.937747147215004\n",
      "Libraries & Demo : 0.937747147215004\n",
      "Auto & Vehicles : 0.9264489888148231\n",
      "Strategy : 0.9151508304146424\n",
      "House & Home : 0.8021692464128347\n",
      "Weather : 0.7908710880126538\n",
      "Events : 0.7117839792113886\n",
      "Adventure : 0.6778895040108462\n",
      "Comics : 0.5988023952095809\n",
      "Beauty : 0.5988023952095809\n",
      "Art & Design : 0.5988023952095809\n",
      "Parenting : 0.4971189696079539\n",
      "Card : 0.45192633600723076\n",
      "Casino : 0.42933001920686925\n",
      "Trivia : 0.41803186080668847\n",
      "Educational;Education : 0.3954355440063269\n",
      "Board : 0.3841373856061462\n",
      "Educational : 0.37283922720596546\n",
      "Education;Education : 0.3389447520054231\n",
      "Word : 0.2598576432041577\n",
      "Casual;Pretend Play : 0.23726132640379616\n",
      "Music : 0.20336685120325385\n",
      "Racing;Action & Adventure : 0.16947237600271156\n",
      "Puzzle;Brain Games : 0.16947237600271156\n",
      "Entertainment;Music & Video : 0.16947237600271156\n",
      "Casual;Brain Games : 0.13557790080216925\n",
      "Casual;Action & Adventure : 0.13557790080216925\n",
      "Arcade;Action & Adventure : 0.12427974240198847\n",
      "Action;Action & Adventure : 0.10168342560162692\n",
      "Educational;Pretend Play : 0.09038526720144617\n",
      "Simulation;Action & Adventure : 0.0790871088012654\n",
      "Parenting;Education : 0.0790871088012654\n",
      "Entertainment;Brain Games : 0.0790871088012654\n",
      "Board;Brain Games : 0.0790871088012654\n",
      "Parenting;Music & Video : 0.06778895040108462\n",
      "Educational;Brain Games : 0.06778895040108462\n",
      "Casual;Creativity : 0.06778895040108462\n",
      "Art & Design;Creativity : 0.06778895040108462\n",
      "Education;Pretend Play : 0.056490792000903844\n",
      "Role Playing;Pretend Play : 0.045192633600723085\n",
      "Education;Creativity : 0.045192633600723085\n",
      "Role Playing;Action & Adventure : 0.03389447520054231\n",
      "Puzzle;Action & Adventure : 0.03389447520054231\n",
      "Entertainment;Creativity : 0.03389447520054231\n",
      "Entertainment;Action & Adventure : 0.03389447520054231\n",
      "Educational;Creativity : 0.03389447520054231\n",
      "Educational;Action & Adventure : 0.03389447520054231\n",
      "Education;Music & Video : 0.03389447520054231\n",
      "Education;Brain Games : 0.03389447520054231\n",
      "Education;Action & Adventure : 0.03389447520054231\n",
      "Adventure;Action & Adventure : 0.03389447520054231\n",
      "Video Players & Editors;Music & Video : 0.022596316800361543\n",
      "Sports;Action & Adventure : 0.022596316800361543\n",
      "Simulation;Pretend Play : 0.022596316800361543\n",
      "Puzzle;Creativity : 0.022596316800361543\n",
      "Music;Music & Video : 0.022596316800361543\n",
      "Entertainment;Pretend Play : 0.022596316800361543\n",
      "Casual;Education : 0.022596316800361543\n",
      "Board;Action & Adventure : 0.022596316800361543\n",
      "Video Players & Editors;Creativity : 0.011298158400180771\n",
      "Trivia;Education : 0.011298158400180771\n",
      "Travel & Local;Action & Adventure : 0.011298158400180771\n",
      "Tools;Education : 0.011298158400180771\n",
      "Strategy;Education : 0.011298158400180771\n",
      "Strategy;Creativity : 0.011298158400180771\n",
      "Strategy;Action & Adventure : 0.011298158400180771\n",
      "Simulation;Education : 0.011298158400180771\n",
      "Role Playing;Brain Games : 0.011298158400180771\n",
      "Racing;Pretend Play : 0.011298158400180771\n",
      "Puzzle;Education : 0.011298158400180771\n",
      "Parenting;Brain Games : 0.011298158400180771\n",
      "Music & Audio;Music & Video : 0.011298158400180771\n",
      "Lifestyle;Pretend Play : 0.011298158400180771\n",
      "Lifestyle;Education : 0.011298158400180771\n",
      "Health & Fitness;Education : 0.011298158400180771\n",
      "Health & Fitness;Action & Adventure : 0.011298158400180771\n",
      "Entertainment;Education : 0.011298158400180771\n",
      "Communication;Creativity : 0.011298158400180771\n",
      "Comics;Creativity : 0.011298158400180771\n",
      "Casual;Music & Video : 0.011298158400180771\n",
      "Card;Action & Adventure : 0.011298158400180771\n",
      "Books & Reference;Education : 0.011298158400180771\n",
      "Art & Design;Pretend Play : 0.011298158400180771\n",
      "Art & Design;Action & Adventure : 0.011298158400180771\n",
      "Arcade;Pretend Play : 0.011298158400180771\n",
      "Adventure;Education : 0.011298158400180771\n"
     ]
    }
   ],
   "source": [
    "display_table(google_clean_set[1:], 9)"
   ]
  },
  {
   "cell_type": "markdown",
   "id": "4f3d6a28",
   "metadata": {},
   "source": [
    "When looking at the Google Play store, the `Family`, `Games` and `Tools` genre seem to be the most dominating App categories. Comparing the store to the App Store, it seems:\n",
    "\n",
    "1. much more spread in distribution of # of apps per genre and \n",
    "2. overall a bit less focused on pure fun and leisure, \n",
    "\n",
    "but showing slightly more `Education` and `Productivity` Apps."
   ]
  },
  {
   "cell_type": "markdown",
   "id": "5e698d11",
   "metadata": {},
   "source": [
    "# Most popular Apps by Genre on the App Store"
   ]
  },
  {
   "cell_type": "code",
   "execution_count": 28,
   "id": "76d693d9",
   "metadata": {
    "ExecuteTime": {
     "end_time": "2022-12-01T23:08:38.103828Z",
     "start_time": "2022-12-01T23:08:38.098851Z"
    }
   },
   "outputs": [],
   "source": [
    "unique_genres_apple = freq_table(apple_clean_set[1:], 11)"
   ]
  },
  {
   "cell_type": "code",
   "execution_count": 29,
   "id": "d1f764da",
   "metadata": {
    "ExecuteTime": {
     "end_time": "2022-12-01T23:08:38.146640Z",
     "start_time": "2022-12-01T23:08:38.106777Z"
    }
   },
   "outputs": [
    {
     "name": "stdout",
     "output_type": "stream",
     "text": [
      "Genre : Average rating\n",
      "----------------------\n",
      "Social Networking : 71548.35\n",
      "Photo & Video : 28441.54\n",
      "Games : 22800.84\n",
      "Music : 57326.53\n",
      "Reference : 79350.47\n",
      "Health & Fitness : 23298.02\n",
      "Weather : 52279.89\n",
      "Utilities : 18917.04\n",
      "Travel : 28243.8\n",
      "Shopping : 27230.73\n",
      "News : 21248.02\n",
      "Navigation : 86090.33\n",
      "Lifestyle : 16485.76\n",
      "Entertainment : 14084.89\n",
      "Food & Drink : 33333.92\n",
      "Sports : 23008.9\n",
      "Book : 42816.85\n",
      "Finance : 31467.94\n",
      "Education : 7003.98\n",
      "Productivity : 21028.41\n",
      "Business : 7491.12\n",
      "Catalogs : 4004.0\n",
      "Medical : 612.0\n"
     ]
    }
   ],
   "source": [
    "print(\"Genre : Average rating\")\n",
    "print(\"----------------------\")\n",
    "for genre in unique_genres_apple:\n",
    "    total = 0\n",
    "    len_genre = 0\n",
    "    \n",
    "    for i in apple_clean_set[1:]:\n",
    "        genre_app = i[11]\n",
    "        rating_amount = float(i[5])\n",
    "        \n",
    "        if genre_app == genre:\n",
    "            total += rating_amount\n",
    "            len_genre += 1\n",
    "    \n",
    "    print(genre + \" : \"  + str(round((total / len_genre),2)) )"
   ]
  },
  {
   "cell_type": "markdown",
   "id": "20e422e5",
   "metadata": {},
   "source": [
    "Looking at the average rating numbers as a substitute for user numbers, we have a very different view, compared to previous analysis. In the App Store dataset we do not have the number of installs / downloads available. One more obvious learning: A high amount of numbers in one genre of an app, does not result in a high number of users in that genre.\n",
    "\n",
    "We see that more practical app genres stand out, hence we could recommend the top three app genres to our developers: `Navigation`, `Reference`, and `Social Networking`."
   ]
  },
  {
   "cell_type": "markdown",
   "id": "510e5c1b",
   "metadata": {},
   "source": [
    "# Most Popular Apps by Genre on Google Play"
   ]
  },
  {
   "cell_type": "code",
   "execution_count": 30,
   "id": "d653b0f4",
   "metadata": {
    "ExecuteTime": {
     "end_time": "2022-12-01T23:08:38.155063Z",
     "start_time": "2022-12-01T23:08:38.148423Z"
    }
   },
   "outputs": [
    {
     "name": "stdout",
     "output_type": "stream",
     "text": [
      "1,000,000+ : 15.749632809851994\n",
      "100,000+ : 11.535419726584568\n",
      "10,000,000+ : 10.563778104169021\n",
      "10,000+ : 10.190938876963054\n",
      "1,000+ : 8.394531691334313\n",
      "100+ : 6.925771099310812\n",
      "5,000,000+ : 6.824087673709185\n",
      "500,000+ : 5.558693932888939\n",
      "50,000+ : 4.767822844876285\n",
      "5,000+ : 4.496667043271946\n",
      "10+ : 3.5363235792565813\n",
      "500+ : 3.2425714608518814\n",
      "50,000,000+ : 2.3048243136368773\n",
      "100,000,000+ : 2.135351937634166\n",
      "50+ : 1.920686928030731\n",
      "5+ : 0.7908710880126538\n",
      "1+ : 0.5084171280081347\n",
      "500,000,000+ : 0.2711558016043385\n",
      "1,000,000,000+ : 0.22596316800361538\n",
      "0+ : 0.045192633600723085\n",
      "0 : 0.011298158400180771\n"
     ]
    }
   ],
   "source": [
    "display_table(google_clean_set[1:], 5)"
   ]
  },
  {
   "cell_type": "code",
   "execution_count": 31,
   "id": "5c012cc5",
   "metadata": {
    "ExecuteTime": {
     "end_time": "2022-12-01T23:08:38.162217Z",
     "start_time": "2022-12-01T23:08:38.156766Z"
    }
   },
   "outputs": [],
   "source": [
    "unique_genres_google = freq_table(google_clean_set[1:], 1)"
   ]
  },
  {
   "cell_type": "code",
   "execution_count": 32,
   "id": "65dde6fd",
   "metadata": {
    "ExecuteTime": {
     "end_time": "2022-12-01T23:08:38.207528Z",
     "start_time": "2022-12-01T23:08:38.163861Z"
    }
   },
   "outputs": [
    {
     "name": "stdout",
     "output_type": "stream",
     "text": [
      "ART_AND_DESIGN : 1986335.09\n",
      "AUTO_AND_VEHICLES : 647317.82\n",
      "BEAUTY : 513151.89\n",
      "BOOKS_AND_REFERENCE : 8814199.79\n",
      "BUSINESS : 1712290.15\n",
      "COMICS : 832613.89\n",
      "COMMUNICATION : 38590581.09\n",
      "DATING : 854028.83\n",
      "EDUCATION : 1833495.15\n",
      "ENTERTAINMENT : 11640705.88\n",
      "EVENTS : 253542.22\n",
      "FINANCE : 1387692.48\n",
      "FOOD_AND_DRINK : 1924897.74\n",
      "HEALTH_AND_FITNESS : 4188821.99\n",
      "HOUSE_AND_HOME : 1360598.04\n",
      "LIBRARIES_AND_DEMO : 638503.73\n",
      "LIFESTYLE : 1446158.22\n",
      "GAME : 15606004.01\n",
      "FAMILY : 3695641.82\n",
      "MEDICAL : 120550.62\n",
      "SOCIAL : 23253652.13\n",
      "SHOPPING : 7036877.31\n",
      "PHOTOGRAPHY : 17840110.4\n",
      "SPORTS : 3650602.28\n",
      "TRAVEL_AND_LOCAL : 13984077.71\n",
      "TOOLS : 10830251.97\n",
      "PERSONALIZATION : 5201482.61\n",
      "PRODUCTIVITY : 16787331.34\n",
      "PARENTING : 542603.62\n",
      "WEATHER : 5145550.29\n",
      "VIDEO_PLAYERS : 24727872.45\n",
      "NEWS_AND_MAGAZINES : 9549178.47\n",
      "MAPS_AND_NAVIGATION : 4049274.63\n"
     ]
    }
   ],
   "source": [
    "for genre in unique_genres_google:\n",
    "    total = 0\n",
    "    amount = 0\n",
    "    \n",
    "    for row in google_clean_set[1:]:\n",
    "        genre_app = row[1]\n",
    "        \n",
    "        if genre == genre_app:\n",
    "            installs = row[5].replace(\"+\",\"\")\n",
    "            installs = installs.replace(\",\",\"\")\n",
    "            \n",
    "            total += float(installs)\n",
    "            amount += 1\n",
    "            \n",
    "    print(genre + \" : \" + str(round((total / amount),2)))"
   ]
  },
  {
   "cell_type": "markdown",
   "id": "0bb13293",
   "metadata": {},
   "source": [
    "Looking at the Google Play store data, the following genres sound promissing, due to high install numbers: `TOOLS`, `GAME`, `BOOKS_AND_REFERENCE` and `NEWS_AND_MAGAZINES`. If we combine the insights from the Apple Store, we can recommend the `Reference` (Apple) or `BOOKS_AND_REFERENCE` (Google) category to our developers. \n",
    "\n",
    "We can recomend to translate a book into an interactive app which triggers the user to stay within the app and regularly come back for news and updates."
   ]
  }
 ],
 "metadata": {
  "hide_input": false,
  "kernelspec": {
   "display_name": "Python 3 (ipykernel)",
   "language": "python",
   "name": "python3"
  },
  "language_info": {
   "codemirror_mode": {
    "name": "ipython",
    "version": 3
   },
   "file_extension": ".py",
   "mimetype": "text/x-python",
   "name": "python",
   "nbconvert_exporter": "python",
   "pygments_lexer": "ipython3",
   "version": "3.8.10"
  }
 },
 "nbformat": 4,
 "nbformat_minor": 5
}
